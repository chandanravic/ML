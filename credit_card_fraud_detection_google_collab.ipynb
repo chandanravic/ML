{
  "nbformat": 4,
  "nbformat_minor": 0,
  "metadata": {
    "colab": {
      "provenance": [],
      "authorship_tag": "ABX9TyPgkRjSYyG2QMB7j6lswuv4",
      "include_colab_link": true
    },
    "kernelspec": {
      "name": "python3",
      "display_name": "Python 3"
    },
    "language_info": {
      "name": "python"
    }
  },
  "cells": [
    {
      "cell_type": "markdown",
      "metadata": {
        "id": "view-in-github",
        "colab_type": "text"
      },
      "source": [
        "<a href=\"https://colab.research.google.com/github/chandanravic/ML/blob/main/credit_card_fraud_detection_google_collab.ipynb\" target=\"_parent\"><img src=\"https://colab.research.google.com/assets/colab-badge.svg\" alt=\"Open In Colab\"/></a>"
      ]
    },
    {
      "cell_type": "code",
      "execution_count": 6,
      "metadata": {
        "id": "nOzwr48tWqkW"
      },
      "outputs": [],
      "source": [
        "# Necessary imports for this notebook\n",
        "import os\n",
        "\n",
        "import numpy as np\n",
        "import pandas as pd\n",
        "\n",
        "import datetime\n",
        "import time\n",
        "\n",
        "import random\n",
        "\n",
        "# For plotting\n",
        "%matplotlib inline\n",
        "\n",
        "import matplotlib.pyplot as plt\n",
        "import seaborn as sns\n",
        "\n",
        "sns.set_style('darkgrid', {'axes.facecolor': '0.9'})"
      ]
    },
    {
      "cell_type": "code",
      "source": [
        "print(\"NIGGA Check Nigga\")"
      ],
      "metadata": {
        "colab": {
          "base_uri": "https://localhost:8080/"
        },
        "id": "N2t3Hij7sba2",
        "outputId": "e3cbae07-f553-41f7-bfde-26fdc30935cb"
      },
      "execution_count": 7,
      "outputs": [
        {
          "output_type": "stream",
          "name": "stdout",
          "text": [
            "NIGGA Check Nigga\n"
          ]
        }
      ]
    }
  ]
}