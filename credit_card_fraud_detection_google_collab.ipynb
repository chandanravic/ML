{
  "nbformat": 4,
  "nbformat_minor": 0,
  "metadata": {
    "colab": {
      "provenance": [],
      "authorship_tag": "ABX9TyOJA55BaaA5mxZ/DSKXuuMV"
    },
    "kernelspec": {
      "name": "python3",
      "display_name": "Python 3"
    },
    "language_info": {
      "name": "python"
    }
  },
  "cells": [
    {
      "cell_type": "code",
      "execution_count": 3,
      "metadata": {
        "id": "nOzwr48tWqkW"
      },
      "outputs": [],
      "source": [
        "# Necessary imports for this notebook\n",
        "import os\n",
        "\n",
        "import numpy as np\n",
        "import pandas as pd\n",
        "\n",
        "import datetime\n",
        "import time\n",
        "\n",
        "import random\n",
        "\n",
        "# For plotting\n",
        "%matplotlib inline\n",
        "\n",
        "import matplotlib.pyplot as plt\n",
        "import seaborn as sns\n",
        "\n",
        "sns.set_style('darkgrid', {'axes.facecolor': '0.9'})"
      ]
    },
    {
      "cell_type": "markdown",
      "source": [
        "Below generating a new table which holds customer and terminal info,  mean spends , standard deviation , transactions per day ( all limits are following uniform distrubution with small values)"
      ],
      "metadata": {
        "id": "pc14A2eKryQG"
      }
    },
    {
      "cell_type": "code",
      "source": [
        "def generate_customer_profiles_table(n_customers, random_state=0):\n",
        "    \n",
        "    np.random.seed(random_state)\n",
        "        \n",
        "    customer_id_properties=[]\n",
        "    \n",
        "    for customer_id in range(n_customers):\n",
        "        \n",
        "        x_customer_id = np.random.uniform(0,100)\n",
        "        y_customer_id = np.random.uniform(0,100)\n",
        "        \n",
        "        mean_amount = np.random.uniform(5,100) \n",
        "        std_amount = mean_amount/2 \n",
        "        \n",
        "        mean_nb_tx_per_day = np.random.uniform(0,4) \n",
        "        \n",
        "        customer_id_properties.append([customer_id,\n",
        "                                      x_customer_id, y_customer_id,\n",
        "                                      mean_amount, std_amount,\n",
        "                                      mean_nb_tx_per_day])\n",
        "        \n",
        "    customer_profiles_table = pd.DataFrame(customer_id_properties, columns=['CUSTOMER_ID',\n",
        "                                                                      'x_customer_id', 'y_customer_id',\n",
        "                                                                      'mean_amount', 'std_amount',\n",
        "                                                                      'mean_nb_tx_per_day'])\n",
        "    \n",
        "    return customer_profiles_table"
      ],
      "metadata": {
        "id": "N2t3Hij7sba2"
      },
      "execution_count": 4,
      "outputs": []
    }
  ]
}