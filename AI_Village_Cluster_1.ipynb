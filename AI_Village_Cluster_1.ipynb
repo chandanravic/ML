{
  "nbformat": 4,
  "nbformat_minor": 0,
  "metadata": {
    "colab": {
      "provenance": [],
      "authorship_tag": "ABX9TyN1f6RM8lZRlF2usJLBU+Wv",
      "include_colab_link": true
    },
    "kernelspec": {
      "name": "python3",
      "display_name": "Python 3"
    },
    "language_info": {
      "name": "python"
    }
  },
  "cells": [
    {
      "cell_type": "markdown",
      "metadata": {
        "id": "view-in-github",
        "colab_type": "text"
      },
      "source": [
        "<a href=\"https://colab.research.google.com/github/chandanravic/ML/blob/main/AI_Village_Cluster_1.ipynb\" target=\"_parent\"><img src=\"https://colab.research.google.com/assets/colab-badge.svg\" alt=\"Open In Colab\"/></a>"
      ]
    },
    {
      "cell_type": "markdown",
      "source": [
        "\n",
        "\n",
        "```\n",
        "load the pretrained model\n",
        "```\n",
        "\n"
      ],
      "metadata": {
        "id": "-UYbLmAwxmhG"
      }
    },
    {
      "cell_type": "code",
      "execution_count": 1,
      "metadata": {
        "id": "x5mM9J89mdpI"
      },
      "outputs": [],
      "source": [
        "import requests\n",
        "\n",
        "input_data = [0]\n",
        "\n",
        "def query(input_data):\n",
        "    response = requests.post('http://cluster1.advml.com/score', json={'data': input_data})\n",
        "    return response.json()\n",
        "\n",
        "#query(input_data)"
      ]
    },
    {
      "cell_type": "markdown",
      "source": [
        "install packages"
      ],
      "metadata": {
        "id": "_D7RwpGmx96O"
      }
    },
    {
      "cell_type": "code",
      "source": [
        "!pip -q install skops\n",
        "!pip -q install scikit-learn==1.3.0"
      ],
      "metadata": {
        "colab": {
          "base_uri": "https://localhost:8080/"
        },
        "id": "z18aoghnnxU0",
        "outputId": "1d60e258-16ef-4fae-c341-289640add4da"
      },
      "execution_count": 2,
      "outputs": [
        {
          "output_type": "stream",
          "name": "stdout",
          "text": [
            "\u001b[2K     \u001b[90m━━━━━━━━━━━━━━━━━━━━━━━━━━━━━━━━━━━━━━━━\u001b[0m \u001b[32m120.7/120.7 kB\u001b[0m \u001b[31m3.1 MB/s\u001b[0m eta \u001b[36m0:00:00\u001b[0m\n",
            "\u001b[2K     \u001b[90m━━━━━━━━━━━━━━━━━━━━━━━━━━━━━━━━━━━━━━━━\u001b[0m \u001b[32m10.8/10.8 MB\u001b[0m \u001b[31m60.6 MB/s\u001b[0m eta \u001b[36m0:00:00\u001b[0m\n",
            "\u001b[?25h"
          ]
        }
      ]
    },
    {
      "cell_type": "markdown",
      "source": [
        "* import libraries\n",
        "\n",
        "* load the files, ML file and the dataset to pandas dataframe, sorting the id and reset the index\n",
        "\n",
        "* load the ML function pipe to predict the data, adding column pos_misclassified to check if prediction matches actual.\n",
        "and adding 1 to each row just for fun i guess."
      ],
      "metadata": {
        "id": "ewVGeb7EyBpj"
      }
    },
    {
      "cell_type": "code",
      "source": [
        "import skops.io as sio\n",
        "import sklearn\n",
        "import pandas as pd\n",
        "import itertools\n",
        "\n",
        "pipe = sio.load(\"/content/sample_data/AI village datasets/census_model.skops\", trusted=True)\n",
        "data = pd.read_csv(\"/content/sample_data/AI village datasets/census.csv\").sort_values('id').reset_index(drop=True)\n",
        "\n",
        "prediction = pipe.predict(data)\n",
        "data['pos_missclassified'] =  prediction != data.income#(prediction == '>50K') & (data.income == '<=50K')\n",
        "data['counter'] = 1"
      ],
      "metadata": {
        "id": "g_eUP4M8pF4R"
      },
      "execution_count": 3,
      "outputs": []
    }
  ]
}