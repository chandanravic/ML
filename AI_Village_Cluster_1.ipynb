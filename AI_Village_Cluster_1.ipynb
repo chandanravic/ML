{
  "nbformat": 4,
  "nbformat_minor": 0,
  "metadata": {
    "colab": {
      "provenance": [],
      "authorship_tag": "ABX9TyO1q8RaYoY1C3GG/AnggTtS",
      "include_colab_link": true
    },
    "kernelspec": {
      "name": "python3",
      "display_name": "Python 3"
    },
    "language_info": {
      "name": "python"
    }
  },
  "cells": [
    {
      "cell_type": "markdown",
      "metadata": {
        "id": "view-in-github",
        "colab_type": "text"
      },
      "source": [
        "<a href=\"https://colab.research.google.com/github/chandanravic/ML/blob/main/AI_Village_Cluster_1.ipynb\" target=\"_parent\"><img src=\"https://colab.research.google.com/assets/colab-badge.svg\" alt=\"Open In Colab\"/></a>"
      ]
    },
    {
      "cell_type": "code",
      "execution_count": 2,
      "metadata": {
        "id": "x5mM9J89mdpI"
      },
      "outputs": [],
      "source": [
        "import requests\n",
        "\n",
        "input_data = [0]\n",
        "\n",
        "def query(input_data):\n",
        "    response = requests.post('http://cluster1.advml.com/score', json={'data': input_data})\n",
        "    return response.json()\n",
        "\n",
        "#query(input_data)"
      ]
    }
  ]
}